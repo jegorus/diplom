{
  "nbformat": 4,
  "nbformat_minor": 0,
  "metadata": {
    "colab": {
      "provenance": []
    },
    "kernelspec": {
      "name": "python3",
      "display_name": "Python 3"
    },
    "language_info": {
      "name": "python"
    }
  },
  "cells": [
    {
      "cell_type": "code",
      "execution_count": null,
      "metadata": {
        "id": "1E27HWajUewg"
      },
      "outputs": [],
      "source": [
        "# setup colab\n",
        "from google.colab import drive\n",
        "drive.mount('/content/drive')\n",
        "%cd /content/\n",
        "!cp -r /content/drive/MyDrive/diplom/. /content\n",
        "\n",
        "!chmod +x ./scripts/dependencies.sh\n",
        "!bash ./scripts/dependencies.sh"
      ]
    },
    {
      "cell_type": "code",
      "source": [
        "from config import Config\n",
        "from model import ModelHandler\n",
        "model_handler = ModelHandler(Config.Dataset.MRPC, Config.Model.LORA)"
      ],
      "metadata": {
        "id": "HrrtzuARK-X3"
      },
      "execution_count": null,
      "outputs": []
    },
    {
      "cell_type": "code",
      "source": [
        "!chmod +x ./scripts/clear_logs.sh\n",
        "!bash ./scripts/clear_logs.sh"
      ],
      "metadata": {
        "id": "QCdy4se0JNjg"
      },
      "execution_count": 4,
      "outputs": []
    },
    {
      "cell_type": "code",
      "source": [
        "training_args = dict(\n",
        "    output_dir=\"lora_output\",\n",
        "    logging_dir=\"lora_logs\",\n",
        "    logging_strategy=\"steps\",\n",
        "    evaluation_strategy=\"steps\",\n",
        "    learning_rate=5e-4,\n",
        "\n",
        "    weight_decay=0.01,\n",
        "    warmup_steps=500,\n",
        "    num_train_epochs=7,\n",
        "    logging_steps=50,\n",
        "    eval_steps=50,\n",
        "    logging_first_step=True,\n",
        "    )\n",
        "\n",
        "loraconfig = dict(\n",
        "    r=32,\n",
        "    lora_alpha=128,\n",
        "    target_modules=([\"query\", \"value\"] +  [\"key\", \"*dense*\"]),\n",
        "    lora_dropout=0.1,\n",
        "    bias=\"none\",\n",
        "    modules_to_save=[\"classifier\"],\n",
        "    task_type=\"SEQ_CLS\"\n",
        ")\n",
        "\n",
        "model_handler.run_experiment(training_args, lora_config=loraconfig)"
      ],
      "metadata": {
        "id": "lvIWyKpcLFYf"
      },
      "execution_count": null,
      "outputs": []
    }
  ]
}